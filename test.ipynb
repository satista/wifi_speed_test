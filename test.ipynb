{
 "metadata": {
  "language_info": {
   "codemirror_mode": {
    "name": "ipython",
    "version": 3
   },
   "file_extension": ".py",
   "mimetype": "text/x-python",
   "name": "python",
   "nbconvert_exporter": "python",
   "pygments_lexer": "ipython3",
   "version": "3.7.2"
  },
  "orig_nbformat": 2,
  "kernelspec": {
   "name": "python372jvsc74a57bd0d5a94fbb4c7c359424db0f61b8c02a0c531cce9e7b1c2c42fd73271be9bd05fb",
   "display_name": "Python 3.7.2 32-bit"
  }
 },
 "nbformat": 4,
 "nbformat_minor": 2,
 "cells": [
  {
   "cell_type": "code",
   "execution_count": 1,
   "metadata": {},
   "outputs": [],
   "source": [
    "import speedtest"
   ]
  },
  {
   "cell_type": "code",
   "execution_count": 2,
   "metadata": {},
   "outputs": [],
   "source": [
    "st = speedtest.Speedtest()\n"
   ]
  },
  {
   "cell_type": "code",
   "execution_count": 14,
   "metadata": {},
   "outputs": [
    {
     "output_type": "execute_result",
     "data": {
      "text/plain": [
       "687810.1214411166"
      ]
     },
     "metadata": {},
     "execution_count": 14
    }
   ],
   "source": [
    "st.download()"
   ]
  },
  {
   "cell_type": "code",
   "execution_count": 16,
   "metadata": {},
   "outputs": [
    {
     "output_type": "execute_result",
     "data": {
      "text/plain": [
       "0.6878101214411165"
      ]
     },
     "metadata": {},
     "execution_count": 16
    }
   ],
   "source": [
    "687810.1214411166 * 1e-6"
   ]
  },
  {
   "cell_type": "code",
   "execution_count": 23,
   "metadata": {},
   "outputs": [
    {
     "output_type": "stream",
     "name": "stdout",
     "text": [
      "2021-05-14\n"
     ]
    }
   ],
   "source": [
    "import datetime\n",
    "\n",
    "print(datetime.datetime.now().date())"
   ]
  },
  {
   "cell_type": "code",
   "execution_count": 86,
   "metadata": {},
   "outputs": [
    {
     "output_type": "stream",
     "name": "stdout",
     "text": [
      "Initiating Speed test.\n",
      "\n",
      "Testing 3 times:\n",
      "\n",
      "Test 1:\n",
      "Testing Download Speed...\n",
      "\n",
      "Download: 1.8286939181343569 Megabits/sec\n",
      "\n",
      "Testing Upload Speed...\n",
      "\n",
      "Upload: 1.8286939181343569 Megabits/sec\n",
      "\n",
      "Testing Ping...\n",
      "\n",
      "The Average ping is  19.4926 \n",
      "\n",
      "Test 2:\n",
      "Testing Download Speed...\n",
      "\n",
      "Download: 0.9471338562628296 Megabits/sec\n",
      "\n",
      "Testing Upload Speed...\n",
      "\n",
      "Upload: 0.9471338562628296 Megabits/sec\n",
      "\n",
      "Testing Ping...\n",
      "\n",
      "The Average ping is  18.060200000000002 \n",
      "\n",
      "Test 3:\n",
      "Testing Download Speed...\n",
      "\n",
      "Download: 1.2381087936231634 Megabits/sec\n",
      "\n",
      "Testing Upload Speed...\n",
      "\n",
      "Please make sure you are online, or have a stable connection.\n"
     ]
    }
   ],
   "source": [
    "def do_speed_test():\n",
    "    try:\n",
    "        st = speedtest.Speedtest()\n",
    "        print(\"Initiating Speed test.\\n\")\n",
    "        print(\"Testing 3 times:\\n\")\n",
    "        for x in range(0,3):\n",
    "            st.get_best_server()\n",
    "\n",
    "            #do download speed test first\n",
    "            print(\"Test {}:\".format(x+1))\n",
    "            print(\"Testing Download Speed...\\n\")\n",
    "            dl_speed = st.download()\n",
    "            print(\"Download: {} Megabits/sec\\n\".format(dl_speed*1e-6))\n",
    "\n",
    "            #Do upload speed test\n",
    "            print(\"Testing Upload Speed...\\n\")\n",
    "            ul_speed = st.upload()\n",
    "            print(\"Upload: {} Megabits/sec\\n\".format(ul_speed*1e-6))\n",
    "\n",
    "            \n",
    "            #test for the average ping\n",
    "            print(\"Testing Ping...\\n\")\n",
    "            average_ping = [] \n",
    "            #loop and test 5 times\n",
    "            for attempt in range(0,5):\n",
    "                st.get_best_server()\n",
    "                average_ping.append(st.results.ping)\n",
    "            print(\"The Average ping is \",(sum(average_ping)/len(average_ping)),\"\\n\")\n",
    "    except:\n",
    "        print(\"Please make sure you are online, or have a stable connection.\\n\")\n",
    "\n",
    "            \n",
    "\n",
    "\n",
    "\n",
    "\n",
    "do_speed_test()"
   ]
  },
  {
   "cell_type": "code",
   "execution_count": 56,
   "metadata": {},
   "outputs": [
    {
     "output_type": "execute_result",
     "data": {
      "text/plain": [
       "'http://speedtest.thn.lon.network.as201838.net:8080/speedtest/upload.php'"
      ]
     },
     "metadata": {},
     "execution_count": 56
    }
   ],
   "source": [
    "import pyspeedtest\n",
    "\n",
    "st.get_best_server()[\"url\"]"
   ]
  },
  {
   "cell_type": "code",
   "execution_count": 65,
   "metadata": {},
   "outputs": [
    {
     "output_type": "execute_result",
     "data": {
      "text/plain": [
       "dict_values(['1.1.1.1', '8.8.8.8', '8.8.4.4', '139.130.4.5'])"
      ]
     },
     "metadata": {},
     "execution_count": 65
    }
   ],
   "source": [
    " ips = {\"Cloudflare\"\t:\"1.1.1.1\",\n",
    "\"google-public-dns-a.google.com.\":\t\"8.8.8.8\",\n",
    "\"google-public-dns-b.google.com\":\t\"8.8.4.4\",\n",
    "\"ns1.telstra.net\":\t\"139.130.4.5\"}\n",
    "ips.values()"
   ]
  },
  {
   "cell_type": "code",
   "execution_count": 73,
   "metadata": {},
   "outputs": [
    {
     "output_type": "execute_result",
     "data": {
      "text/plain": [
       "35.587"
      ]
     },
     "metadata": {},
     "execution_count": 73
    }
   ],
   "source": [
    "st.get_best_server()\n",
    "st.results.ping"
   ]
  }
 ]
}